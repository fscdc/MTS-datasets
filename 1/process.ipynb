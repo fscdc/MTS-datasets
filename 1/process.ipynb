{
 "cells": [
  {
   "cell_type": "markdown",
   "metadata": {},
   "source": [
    "## 预处理\n",
    "\n",
    "我先进行预处理，首先是删掉一些没有意义的数据列，分别是序号列、州号列、县号列、站点序号列、地址列和四个污染物的单位列，这些都是没有用处的。剩余了20列，分别代表州、县、城市、日期和四个污染物的分别4列数据（平均值、当日最大值、当日最大值出现的时间、空气质量）"
   ]
  },
  {
   "cell_type": "code",
   "execution_count": 8,
   "metadata": {},
   "outputs": [
    {
     "name": "stdout",
     "output_type": "stream",
     "text": [
      "(1746661, 20)\n",
      "(436876, 20)\n"
     ]
    }
   ],
   "source": [
    "import pandas as pd\n",
    "\n",
    "data = pd.read_csv(\"./pollution_us_2000_2016.csv\")\n",
    "data = data.drop(\n",
    "    [\n",
    "        \"Unnamed: 0\",\n",
    "        \"State Code\",\n",
    "        \"County Code\",\n",
    "        \"Site Num\",\n",
    "        \"Address\",\n",
    "        \"NO2 Units\",\n",
    "        \"O3 Units\",\n",
    "        \"SO2 Units\",\n",
    "        \"CO Units\",\n",
    "    ],\n",
    "    axis=1,\n",
    ")\n",
    "data['Date Local'] = pd.to_datetime(data['Date Local'],format='%Y-%m-%d')\n",
    "print(data.shape)\n",
    "data = data.dropna(axis='rows')\n",
    "#print(data.head())\n",
    "print(data.shape)"
   ]
  },
  {
   "cell_type": "code",
   "execution_count": null,
   "metadata": {},
   "outputs": [],
   "source": []
  }
 ],
 "metadata": {
  "kernelspec": {
   "display_name": "base",
   "language": "python",
   "name": "python3"
  },
  "language_info": {
   "codemirror_mode": {
    "name": "ipython",
    "version": 3
   },
   "file_extension": ".py",
   "mimetype": "text/x-python",
   "name": "python",
   "nbconvert_exporter": "python",
   "pygments_lexer": "ipython3",
   "version": "3.10.9"
  }
 },
 "nbformat": 4,
 "nbformat_minor": 2
}
